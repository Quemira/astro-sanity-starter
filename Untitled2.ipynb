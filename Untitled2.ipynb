{
  "nbformat": 4,
  "nbformat_minor": 0,
  "metadata": {
    "colab": {
      "provenance": [],
      "authorship_tag": "ABX9TyMmV7vTTP9CqDvkJpTc3V1p",
      "include_colab_link": true
    },
    "kernelspec": {
      "name": "python3",
      "display_name": "Python 3"
    },
    "language_info": {
      "name": "python"
    }
  },
  "cells": [
    {
      "cell_type": "markdown",
      "metadata": {
        "id": "view-in-github",
        "colab_type": "text"
      },
      "source": [
        "<a href=\"https://colab.research.google.com/github/Quemira/astro-sanity-starter/blob/main/Untitled2.ipynb\" target=\"_parent\"><img src=\"https://colab.research.google.com/assets/colab-badge.svg\" alt=\"Open In Colab\"/></a>"
      ]
    },
    {
      "cell_type": "code",
      "execution_count": null,
      "metadata": {
        "id": "vJxYymA_LRG2",
        "outputId": "74808a25-3d97-4c5f-a37f-ef6353761746",
        "colab": {
          "base_uri": "https://localhost:8080/"
        }
      },
      "outputs": [
        {
          "output_type": "stream",
          "name": "stdout",
          "text": [
            "Requirement already satisfied: requests in /usr/local/lib/python3.10/dist-packages (2.32.3)\n",
            "Requirement already satisfied: beautifulsoup4 in /usr/local/lib/python3.10/dist-packages (4.12.3)\n",
            "Requirement already satisfied: charset-normalizer<4,>=2 in /usr/local/lib/python3.10/dist-packages (from requests) (3.3.2)\n",
            "Requirement already satisfied: idna<4,>=2.5 in /usr/local/lib/python3.10/dist-packages (from requests) (3.8)\n",
            "Requirement already satisfied: urllib3<3,>=1.21.1 in /usr/local/lib/python3.10/dist-packages (from requests) (2.0.7)\n",
            "Requirement already satisfied: certifi>=2017.4.17 in /usr/local/lib/python3.10/dist-packages (from requests) (2024.8.30)\n",
            "Requirement already satisfied: soupsieve>1.2 in /usr/local/lib/python3.10/dist-packages (from beautifulsoup4) (2.6)\n"
          ]
        }
      ],
      "source": [
        "!pip install requests beautifulsoup4"
      ]
    },
    {
      "cell_type": "code",
      "source": [
        "\n",
        "import requests\n",
        "from bs4 import BeautifulSoup\n",
        "import smtplib\n",
        "from email.mime.text import MIMEText\n",
        "from email.mime.multipart import MIMEMultipart\n",
        "\n",
        "# Função para coletar dados de empresas\n",
        "def coletar_empresas(url):\n",
        "    resposta = requests.get(url)\n",
        "    sopa = BeautifulSoup(resposta.text, 'html.parser')\n",
        "\n",
        "    empresas = []\n",
        "\n",
        "    # Exemplo de extração de informações de um site (ajustar de acordo com o site)\n",
        "    for empresa in sopa.find_all('div', class_='empresa'):\n",
        "        nome = empresa.find('h2').text\n",
        "        email = empresa.find('a', href=True)['href'].replace('mailto:', 'emaildocapita@gmail.com')\n",
        "        empresas.append({'nome': nome, 'email': email})\n",
        "\n",
        "    return empresas\n",
        "\n",
        "# Função para enviar e-mail\n",
        "def enviar_email(destinatario, assunto, mensagem):\n",
        "    remetente = \"emaildocapita@gmail.com\"\n",
        "    senha = \"ceiapituis\"\n",
        "\n",
        "    msg = MIMEMultipart()\n",
        "    msg['From'] = remetente\n",
        "    msg['To'] = destinatario\n",
        "    msg['Subject'] = assunto\n",
        "\n",
        "    msg.attach(MIMEText(mensagem, 'plain'))\n",
        "\n",
        "    # Configurando servidor SMTP\n",
        "    try:\n",
        "        servidor = smtplib.SMTP('smtp.gmail.com', 587)\n",
        "        servidor.starttls()\n",
        "        servidor.login(remetente, senha)\n",
        "        texto = msg.as_string()\n",
        "        servidor.sendmail(remetente, destinatario, texto)\n",
        "        servidor.quit()\n",
        "        print(f\"E-mail enviado para {destinatario}\")\n",
        "    except Exception as e:\n",
        "        print(f\"Falha ao enviar e-mail: {e}\")\n",
        "\n",
        "# URL do diretório de empresas (coloque um site válido aqui)\n",
        "url_diretorio = \"https://empresas.verangola.net\"\n",
        "empresas = coletar_empresas(url_diretorio)\n",
        "\n",
        "# Enviando e-mails\n",
        "for empresa in empresas:\n",
        "    enviar_email(empresa['email'], \"Assunto do Email\", \"Corpo da mensagem\")"
      ],
      "metadata": {
        "id": "HiOcl-HUL-7k"
      },
      "execution_count": 6,
      "outputs": []
    }
  ]
}